{
  "cells": [
    {
      "cell_type": "code",
      "execution_count": 1,
      "metadata": {},
      "outputs": [
        {
          "name": "stdout",
          "output_type": "stream",
          "text": [
            "Requirement already satisfied: torch==2.0.1 in c:\\users\\u633714\\appdata\\local\\anaconda3\\lib\\site-packages (from -r local_req.txt (line 1)) (2.0.1+cu118)\n",
            "Requirement already satisfied: torchaudio==2.0.2 in c:\\users\\u633714\\appdata\\local\\anaconda3\\lib\\site-packages (from -r local_req.txt (line 2)) (2.0.2+cu118)\n",
            "Collecting numpy==1.25.2 (from -r local_req.txt (line 3))\n",
            "  Obtaining dependency information for numpy==1.25.2 from https://files.pythonhosted.org/packages/72/b2/02770e60c4e2f7e158d923ab0dea4e9f146a2dbf267fec6d8dc61d475689/numpy-1.25.2-cp311-cp311-win_amd64.whl.metadata\n",
            "  Downloading numpy-1.25.2-cp311-cp311-win_amd64.whl.metadata (5.7 kB)\n",
            "Collecting boto3==1.28.22 (from -r local_req.txt (line 4))\n",
            "  Obtaining dependency information for boto3==1.28.22 from https://files.pythonhosted.org/packages/2f/83/07bbd31d54f8cfbb30cd09802c2eced29a50324f746520eefd69cc7002f6/boto3-1.28.22-py3-none-any.whl.metadata\n",
            "  Downloading boto3-1.28.22-py3-none-any.whl.metadata (6.6 kB)\n",
            "Requirement already satisfied: filelock in c:\\users\\u633714\\appdata\\local\\anaconda3\\lib\\site-packages (from torch==2.0.1->-r local_req.txt (line 1)) (3.9.0)\n",
            "Requirement already satisfied: typing-extensions in c:\\users\\u633714\\appdata\\local\\anaconda3\\lib\\site-packages (from torch==2.0.1->-r local_req.txt (line 1)) (4.7.1)\n",
            "Requirement already satisfied: sympy in c:\\users\\u633714\\appdata\\local\\anaconda3\\lib\\site-packages (from torch==2.0.1->-r local_req.txt (line 1)) (1.11.1)\n",
            "Requirement already satisfied: networkx in c:\\users\\u633714\\appdata\\local\\anaconda3\\lib\\site-packages (from torch==2.0.1->-r local_req.txt (line 1)) (3.1)\n",
            "Requirement already satisfied: jinja2 in c:\\users\\u633714\\appdata\\local\\anaconda3\\lib\\site-packages (from torch==2.0.1->-r local_req.txt (line 1)) (3.1.2)\n",
            "Collecting botocore<1.32.0,>=1.31.22 (from boto3==1.28.22->-r local_req.txt (line 4))\n",
            "  Obtaining dependency information for botocore<1.32.0,>=1.31.22 from https://files.pythonhosted.org/packages/d4/4a/dcec308c412000a3a141be50568dd96b86cbd829ac9ee0b937b4fa6c56ae/botocore-1.31.23-py3-none-any.whl.metadata\n",
            "  Downloading botocore-1.31.23-py3-none-any.whl.metadata (5.9 kB)\n",
            "Requirement already satisfied: jmespath<2.0.0,>=0.7.1 in c:\\users\\u633714\\appdata\\local\\anaconda3\\lib\\site-packages (from boto3==1.28.22->-r local_req.txt (line 4)) (0.10.0)\n",
            "Requirement already satisfied: s3transfer<0.7.0,>=0.6.0 in c:\\users\\u633714\\appdata\\local\\anaconda3\\lib\\site-packages (from boto3==1.28.22->-r local_req.txt (line 4)) (0.6.0)\n",
            "Requirement already satisfied: python-dateutil<3.0.0,>=2.1 in c:\\users\\u633714\\appdata\\local\\anaconda3\\lib\\site-packages (from botocore<1.32.0,>=1.31.22->boto3==1.28.22->-r local_req.txt (line 4)) (2.8.2)\n",
            "Requirement already satisfied: urllib3<1.27,>=1.25.4 in c:\\users\\u633714\\appdata\\local\\anaconda3\\lib\\site-packages (from botocore<1.32.0,>=1.31.22->boto3==1.28.22->-r local_req.txt (line 4)) (1.26.16)\n",
            "Requirement already satisfied: MarkupSafe>=2.0 in c:\\users\\u633714\\appdata\\local\\anaconda3\\lib\\site-packages (from jinja2->torch==2.0.1->-r local_req.txt (line 1)) (2.1.1)\n",
            "Requirement already satisfied: mpmath>=0.19 in c:\\users\\u633714\\appdata\\local\\anaconda3\\lib\\site-packages (from sympy->torch==2.0.1->-r local_req.txt (line 1)) (1.3.0)\n",
            "Requirement already satisfied: six>=1.5 in c:\\users\\u633714\\appdata\\local\\anaconda3\\lib\\site-packages (from python-dateutil<3.0.0,>=2.1->botocore<1.32.0,>=1.31.22->boto3==1.28.22->-r local_req.txt (line 4)) (1.16.0)\n",
            "Downloading numpy-1.25.2-cp311-cp311-win_amd64.whl (15.5 MB)\n",
            "   ---------------------------------------- 0.0/15.5 MB ? eta -:--:--\n",
            "    --------------------------------------- 0.3/15.5 MB 6.5 MB/s eta 0:00:03\n",
            "   - -------------------------------------- 0.7/15.5 MB 9.2 MB/s eta 0:00:02\n",
            "   -- ------------------------------------- 1.2/15.5 MB 8.2 MB/s eta 0:00:02\n",
            "   -- ------------------------------------- 1.2/15.5 MB 8.2 MB/s eta 0:00:02\n",
            "   ----- ---------------------------------- 2.2/15.5 MB 9.2 MB/s eta 0:00:02\n",
            "   ------ --------------------------------- 2.6/15.5 MB 9.3 MB/s eta 0:00:02\n",
            "   -------- ------------------------------- 3.2/15.5 MB 9.6 MB/s eta 0:00:02\n",
            "   --------- ------------------------------ 3.7/15.5 MB 9.9 MB/s eta 0:00:02\n",
            "   ---------- ----------------------------- 4.1/15.5 MB 9.8 MB/s eta 0:00:02\n",
            "   ----------- ---------------------------- 4.7/15.5 MB 9.9 MB/s eta 0:00:02\n",
            "   ------------ --------------------------- 5.0/15.5 MB 10.3 MB/s eta 0:00:02\n",
            "   ------------- -------------------------- 5.3/15.5 MB 10.0 MB/s eta 0:00:02\n",
            "   -------------- ------------------------- 5.6/15.5 MB 9.5 MB/s eta 0:00:02\n",
            "   --------------- ------------------------ 6.1/15.5 MB 9.5 MB/s eta 0:00:01\n",
            "   ---------------- ----------------------- 6.5/15.5 MB 9.4 MB/s eta 0:00:01\n",
            "   ----------------- ---------------------- 6.9/15.5 MB 9.4 MB/s eta 0:00:01\n",
            "   ------------------ --------------------- 7.2/15.5 MB 9.2 MB/s eta 0:00:01\n",
            "   ------------------- -------------------- 7.7/15.5 MB 9.3 MB/s eta 0:00:01\n",
            "   --------------------- ------------------ 8.3/15.5 MB 9.4 MB/s eta 0:00:01\n",
            "   ---------------------- ----------------- 8.6/15.5 MB 9.3 MB/s eta 0:00:01\n",
            "   ----------------------- ---------------- 9.0/15.5 MB 9.3 MB/s eta 0:00:01\n",
            "   ------------------------ --------------- 9.5/15.5 MB 9.4 MB/s eta 0:00:01\n",
            "   -------------------------- ------------- 10.2/15.5 MB 9.6 MB/s eta 0:00:01\n",
            "   --------------------------- ------------ 10.7/15.5 MB 9.9 MB/s eta 0:00:01\n",
            "   ---------------------------- ----------- 11.2/15.5 MB 9.8 MB/s eta 0:00:01\n",
            "   ------------------------------ --------- 11.8/15.5 MB 10.6 MB/s eta 0:00:01\n",
            "   ------------------------------- -------- 12.3/15.5 MB 10.1 MB/s eta 0:00:01\n",
            "   --------------------------------- ------ 12.9/15.5 MB 10.1 MB/s eta 0:00:01\n",
            "   ---------------------------------- ----- 13.4/15.5 MB 10.1 MB/s eta 0:00:01\n",
            "   ----------------------------------- ---- 14.0/15.5 MB 10.1 MB/s eta 0:00:01\n",
            "   ------------------------------------- -- 14.5/15.5 MB 10.1 MB/s eta 0:00:01\n",
            "   -------------------------------------- - 15.1/15.5 MB 10.2 MB/s eta 0:00:01\n",
            "   ---------------------------------------  15.5/15.5 MB 10.6 MB/s eta 0:00:01\n",
            "   ---------------------------------------- 15.5/15.5 MB 9.9 MB/s eta 0:00:00\n",
            "Downloading boto3-1.28.22-py3-none-any.whl (135 kB)\n",
            "   ---------------------------------------- 0.0/135.8 kB ? eta -:--:--\n",
            "   ---------------------------------------- 135.8/135.8 kB 7.8 MB/s eta 0:00:00\n",
            "Downloading botocore-1.31.23-py3-none-any.whl (11.1 MB)\n",
            "   ---------------------------------------- 0.0/11.1 MB ? eta -:--:--\n",
            "   - -------------------------------------- 0.4/11.1 MB 12.9 MB/s eta 0:00:01\n",
            "   --- ------------------------------------ 1.0/11.1 MB 12.5 MB/s eta 0:00:01\n",
            "   --- ------------------------------------ 1.0/11.1 MB 12.5 MB/s eta 0:00:01\n",
            "   ------ --------------------------------- 1.8/11.1 MB 10.3 MB/s eta 0:00:01\n",
            "   -------- ------------------------------- 2.4/11.1 MB 10.9 MB/s eta 0:00:01\n",
            "   ----------- ---------------------------- 3.1/11.1 MB 11.4 MB/s eta 0:00:01\n",
            "   ------------ --------------------------- 3.5/11.1 MB 11.2 MB/s eta 0:00:01\n",
            "   ------------- -------------------------- 3.9/11.1 MB 10.7 MB/s eta 0:00:01\n",
            "   --------------- ------------------------ 4.4/11.1 MB 10.9 MB/s eta 0:00:01\n",
            "   ------------------ --------------------- 5.1/11.1 MB 11.1 MB/s eta 0:00:01\n",
            "   ------------------- -------------------- 5.5/11.1 MB 11.0 MB/s eta 0:00:01\n",
            "   ---------------------- ----------------- 6.1/11.1 MB 11.2 MB/s eta 0:00:01\n",
            "   ----------------------- ---------------- 6.6/11.1 MB 11.1 MB/s eta 0:00:01\n",
            "   ------------------------- -------------- 7.2/11.1 MB 11.2 MB/s eta 0:00:01\n",
            "   --------------------------- ------------ 7.7/11.1 MB 11.5 MB/s eta 0:00:01\n",
            "   ----------------------------- ---------- 8.2/11.1 MB 11.4 MB/s eta 0:00:01\n",
            "   -------------------------------- ------- 8.9/11.1 MB 11.4 MB/s eta 0:00:01\n",
            "   ---------------------------------- ----- 9.5/11.1 MB 11.4 MB/s eta 0:00:01\n",
            "   ----------------------------------- ---- 9.9/11.1 MB 11.3 MB/s eta 0:00:01\n",
            "   ------------------------------------- -- 10.3/11.1 MB 11.1 MB/s eta 0:00:01\n",
            "   -------------------------------------- - 10.7/11.1 MB 11.1 MB/s eta 0:00:01\n",
            "   ---------------------------------------  11.1/11.1 MB 10.9 MB/s eta 0:00:01\n",
            "   ---------------------------------------- 11.1/11.1 MB 10.6 MB/s eta 0:00:00\n",
            "Installing collected packages: numpy, botocore, boto3\n",
            "  Attempting uninstall: numpy\n",
            "    Found existing installation: numpy 1.24.3\n",
            "    Uninstalling numpy-1.24.3:\n",
            "      Successfully uninstalled numpy-1.24.3\n",
            "  Attempting uninstall: botocore\n",
            "    Found existing installation: botocore 1.27.96\n",
            "    Uninstalling botocore-1.27.96:\n",
            "      Successfully uninstalled botocore-1.27.96\n",
            "  Attempting uninstall: boto3\n",
            "    Found existing installation: boto3 1.24.28\n",
            "    Uninstalling boto3-1.24.28:\n",
            "      Successfully uninstalled boto3-1.24.28\n",
            "Successfully installed boto3-1.28.22 botocore-1.31.23 numpy-1.25.2\n"
          ]
        },
        {
          "name": "stderr",
          "output_type": "stream",
          "text": [
            "ERROR: pip's dependency resolver does not currently take into account all the packages that are installed. This behaviour is the source of the following dependency conflicts.\n",
            "gensim 4.3.0 requires FuzzyTM>=0.4.0, which is not installed.\n",
            "tables 3.8.0 requires blosc2~=2.0.0, which is not installed.\n",
            "tables 3.8.0 requires cython>=0.29.21, which is not installed.\n",
            "transformers 2.1.1 requires sentencepiece, which is not installed.\n",
            "aiobotocore 2.4.2 requires botocore<1.27.60,>=1.27.59, but you have botocore 1.31.23 which is incompatible.\n",
            "awscli 1.29.21 requires botocore==1.31.21, but you have botocore 1.31.23 which is incompatible.\n",
            "numba 0.57.0 requires numpy<1.25,>=1.21, but you have numpy 1.25.2 which is incompatible.\n"
          ]
        }
      ],
      "source": [
        "!pip install -r local_req.txt"
      ]
    },
    {
      "cell_type": "code",
      "execution_count": 2,
      "metadata": {
        "id": "dVO8fKb8hqnB"
      },
      "outputs": [],
      "source": [
        "import torch\n",
        "import torchaudio\n",
        "import json"
      ]
    },
    {
      "cell_type": "code",
      "execution_count": 11,
      "metadata": {},
      "outputs": [],
      "source": [
        "def pre_process(audio_path):\n",
        "    waveform, sr = torchaudio.load(audio_path)\n",
        "    if sr != 16000:\n",
        "        waveform = torchaudio.transforms.Resample(sr, 16000)(waveform)\n",
        "    return waveform"
      ]
    },
    {
      "cell_type": "code",
      "execution_count": 12,
      "metadata": {},
      "outputs": [],
      "source": [
        "def get_label(label_pred):\n",
        "    if type(label_pred) == list:\n",
        "        label_pred = label_pred[0]\n",
        "    if 'json_dict' not in globals():\n",
        "        global json_dict\n",
        "        with open(\"labels.json\", \"r\") as f:\n",
        "            json_dict = json.load(f)\n",
        "    label = json_dict[str(label_pred)]\n",
        "    return label"
      ]
    },
    {
      "cell_type": "code",
      "execution_count": 14,
      "metadata": {
        "colab": {
          "base_uri": "https://localhost:8080/",
          "height": 373
        },
        "id": "uXPYzItIhnvY",
        "outputId": "5756ce51-00c2-4768-c761-f12f50949b42"
      },
      "outputs": [],
      "source": [
        "from BEATs import BEATs, BEATsConfig\n",
        "\n",
        "def predict(audio_path, checkpoint_path):\n",
        "    checkpoint = torch.load(checkpoint_path)\n",
        "    cfg = BEATsConfig(checkpoint['cfg'])\n",
        "    BEATs_model = BEATs(cfg)\n",
        "    BEATs_model.load_state_dict(checkpoint['model'])\n",
        "    BEATs_model.eval()\n",
        "\n",
        "    waveform = pre_process(audio_path)\n",
        "    probs = BEATs_model.extract_features(waveform, padding_mask=None)[0]\n",
        "    return probs"
      ]
    },
    {
      "cell_type": "code",
      "execution_count": 25,
      "metadata": {},
      "outputs": [
        {
          "name": "stdout",
          "output_type": "stream",
          "text": [
            "torch.Size([1, 527])\n",
            "431\n",
            "Wail, moan\n"
          ]
        }
      ],
      "source": [
        "probs = predict('baby.wav', 'model.pt')\n",
        "label_pred = probs.topk(k=1)[1].tolist()[0][0]\n",
        "label = get_label(label_pred)\n",
        "print(probs.size())\n",
        "print(label_pred)\n",
        "print(label)"
      ]
    },
    {
      "cell_type": "code",
      "execution_count": null,
      "metadata": {},
      "outputs": [],
      "source": []
    }
  ],
  "metadata": {
    "colab": {
      "collapsed_sections": [
        "jTmnAISwqLDl"
      ],
      "provenance": [],
      "toc_visible": true
    },
    "kernelspec": {
      "display_name": "base",
      "language": "python",
      "name": "python3"
    },
    "language_info": {
      "codemirror_mode": {
        "name": "ipython",
        "version": 3
      },
      "file_extension": ".py",
      "mimetype": "text/x-python",
      "name": "python",
      "nbconvert_exporter": "python",
      "pygments_lexer": "ipython3",
      "version": "3.11.4"
    }
  },
  "nbformat": 4,
  "nbformat_minor": 0
}
