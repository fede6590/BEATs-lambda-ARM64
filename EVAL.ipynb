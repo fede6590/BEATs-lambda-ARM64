{
  "cells": [
    {
      "cell_type": "code",
      "execution_count": 1,
      "metadata": {},
      "outputs": [
        {
          "name": "stdout",
          "output_type": "stream",
          "text": [
            "Requirement already satisfied: torch==2.0.1 in c:\\users\\u633714\\appdata\\local\\anaconda3\\lib\\site-packages (from -r local_req.txt (line 1)) (2.0.1+cu118)\n",
            "Requirement already satisfied: torchaudio==2.0.2 in c:\\users\\u633714\\appdata\\local\\anaconda3\\lib\\site-packages (from -r local_req.txt (line 2)) (2.0.2+cu118)\n",
            "Requirement already satisfied: numpy==1.25.2 in c:\\users\\u633714\\appdata\\local\\anaconda3\\lib\\site-packages (from -r local_req.txt (line 3)) (1.25.2)\n",
            "Requirement already satisfied: soundfile in c:\\users\\u633714\\appdata\\local\\anaconda3\\lib\\site-packages (from -r local_req.txt (line 4)) (0.12.1)\n",
            "Requirement already satisfied: filelock in c:\\users\\u633714\\appdata\\local\\anaconda3\\lib\\site-packages (from torch==2.0.1->-r local_req.txt (line 1)) (3.9.0)\n",
            "Requirement already satisfied: typing-extensions in c:\\users\\u633714\\appdata\\local\\anaconda3\\lib\\site-packages (from torch==2.0.1->-r local_req.txt (line 1)) (4.7.1)\n",
            "Requirement already satisfied: sympy in c:\\users\\u633714\\appdata\\local\\anaconda3\\lib\\site-packages (from torch==2.0.1->-r local_req.txt (line 1)) (1.11.1)\n",
            "Requirement already satisfied: networkx in c:\\users\\u633714\\appdata\\local\\anaconda3\\lib\\site-packages (from torch==2.0.1->-r local_req.txt (line 1)) (3.1)\n",
            "Requirement already satisfied: jinja2 in c:\\users\\u633714\\appdata\\local\\anaconda3\\lib\\site-packages (from torch==2.0.1->-r local_req.txt (line 1)) (3.1.2)\n",
            "Requirement already satisfied: cffi>=1.0 in c:\\users\\u633714\\appdata\\local\\anaconda3\\lib\\site-packages (from soundfile->-r local_req.txt (line 4)) (1.15.1)\n",
            "Requirement already satisfied: pycparser in c:\\users\\u633714\\appdata\\local\\anaconda3\\lib\\site-packages (from cffi>=1.0->soundfile->-r local_req.txt (line 4)) (2.21)\n",
            "Requirement already satisfied: MarkupSafe>=2.0 in c:\\users\\u633714\\appdata\\local\\anaconda3\\lib\\site-packages (from jinja2->torch==2.0.1->-r local_req.txt (line 1)) (2.1.1)\n",
            "Requirement already satisfied: mpmath>=0.19 in c:\\users\\u633714\\appdata\\local\\anaconda3\\lib\\site-packages (from sympy->torch==2.0.1->-r local_req.txt (line 1)) (1.3.0)\n",
            "Note: you may need to restart the kernel to use updated packages.\n"
          ]
        }
      ],
      "source": [
        "%pip install -r local_req.txt"
      ]
    },
    {
      "cell_type": "code",
      "execution_count": 8,
      "metadata": {
        "id": "dVO8fKb8hqnB"
      },
      "outputs": [],
      "source": [
        "import torch\n",
        "import torchaudio\n",
        "import json"
      ]
    },
    {
      "cell_type": "code",
      "execution_count": 3,
      "metadata": {},
      "outputs": [],
      "source": [
        "def pre_process(audio_path):\n",
        "    waveform, sr = torchaudio.load(audio_path)\n",
        "    if sr != 16000:\n",
        "        waveform = torchaudio.transforms.Resample(sr, 16000)(waveform)\n",
        "    return waveform"
      ]
    },
    {
      "cell_type": "code",
      "execution_count": 4,
      "metadata": {},
      "outputs": [],
      "source": [
        "def get_key_from_value(input_value, data_dict):\n",
        "    for key, values in data_dict.items():\n",
        "        if input_value in values:\n",
        "            return key\n",
        "    return None\n",
        "\n",
        "\n",
        "def filter_from_mask(labels_json, mask_json):\n",
        "    with open(labels_json, \"r\") as f:\n",
        "        json_labs = json.load(f)\n",
        "        with open(mask_json, \"r\") as g:\n",
        "            mask = json.load(g)\n",
        "    final_labels = {key: get_key_from_value(value, mask) for key, value in json_labs.items()}\n",
        "    return final_labels"
      ]
    },
    {
      "cell_type": "code",
      "execution_count": 12,
      "metadata": {
        "colab": {
          "base_uri": "https://localhost:8080/",
          "height": 373
        },
        "id": "uXPYzItIhnvY",
        "outputId": "5756ce51-00c2-4768-c761-f12f50949b42"
      },
      "outputs": [],
      "source": [
        "from BEATs import BEATs, BEATsConfig\n",
        "\n",
        "def predict(audio_path, checkpoint_path):\n",
        "    checkpoint = torch.load(checkpoint_path)\n",
        "    cfg = BEATsConfig(checkpoint['cfg'])\n",
        "    BEATs_model = BEATs(cfg)\n",
        "    BEATs_model.load_state_dict(checkpoint['model'])\n",
        "    BEATs_model.eval()\n",
        "\n",
        "    waveform = pre_process(audio_path)\n",
        "    pred = BEATs_model.extract_features(waveform, padding_mask=None)[0]\n",
        "    return pred"
      ]
    },
    {
      "cell_type": "code",
      "execution_count": 18,
      "metadata": {},
      "outputs": [],
      "source": [
        "final_labels = None\n",
        "\n",
        "def get_labels(pred, k, masked):\n",
        "    global final_labels\n",
        "    if final_labels is None:\n",
        "        if masked == 'y':\n",
        "            final_labels = filter_from_mask(\"labels.json\", \"mask.json\")\n",
        "        else:\n",
        "            with open(\"labels.json\", \"r\") as f:\n",
        "                final_labels = json.load(f)\n",
        "    labs = pred.topk(k)[1].tolist()[0]\n",
        "    probs = pred.topk(k)[0].tolist()[0]\n",
        "    labels = {}\n",
        "    for i, lab in enumerate(labs):\n",
        "        final_lab = final_labels[str(lab)]\n",
        "        if final_lab is not None:\n",
        "            labels[final_lab] = probs[i]\n",
        "    return labels"
      ]
    },
    {
      "cell_type": "code",
      "execution_count": 20,
      "metadata": {},
      "outputs": [
        {
          "name": "stdout",
          "output_type": "stream",
          "text": [
            "torch.Size([1, 527])\n",
            "{'Cry': 0.10261154919862747, 'Speech': 0.08247208595275879}\n",
            "('Cry', 0.10261154919862747)\n"
          ]
        }
      ],
      "source": [
        "pred = predict('baby.wav', 'model.pt')\n",
        "labels = get_labels(pred, 5, 'y')\n",
        "first = list(labels.items())\n",
        "first = first[0] if first else (None, None)\n",
        "print(pred.size())\n",
        "print(labels)\n",
        "print(first)"
      ]
    },
    {
      "cell_type": "code",
      "execution_count": null,
      "metadata": {},
      "outputs": [],
      "source": []
    }
  ],
  "metadata": {
    "colab": {
      "collapsed_sections": [
        "jTmnAISwqLDl"
      ],
      "provenance": [],
      "toc_visible": true
    },
    "kernelspec": {
      "display_name": "base",
      "language": "python",
      "name": "python3"
    },
    "language_info": {
      "codemirror_mode": {
        "name": "ipython",
        "version": 3
      },
      "file_extension": ".py",
      "mimetype": "text/x-python",
      "name": "python",
      "nbconvert_exporter": "python",
      "pygments_lexer": "ipython3",
      "version": "3.11.4"
    }
  },
  "nbformat": 4,
  "nbformat_minor": 0
}
